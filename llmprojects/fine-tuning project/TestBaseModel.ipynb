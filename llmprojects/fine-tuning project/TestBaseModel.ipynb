{
 "cells": [
  {
   "cell_type": "markdown",
   "id": "d9ff4b6c",
   "metadata": {},
   "source": [
    "This is the performance of the llama 3.1 quantized 4bit\n",
    "\n",
    "https://colab.research.google.com/drive/14CO6fceit-Vah5pQSvRgtOzpQXwd6gpV?authuser=1#scrollTo=681fA6VQThLM"
   ]
  },
  {
   "cell_type": "markdown",
   "id": "f63c1364",
   "metadata": {},
   "source": []
  }
 ],
 "metadata": {
  "language_info": {
   "name": "python"
  }
 },
 "nbformat": 4,
 "nbformat_minor": 5
}
