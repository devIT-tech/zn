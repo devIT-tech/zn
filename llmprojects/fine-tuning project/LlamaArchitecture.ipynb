{
 "cells": [
  {
   "cell_type": "markdown",
   "id": "ff799bf6",
   "metadata": {},
   "source": [
    "This is the structure of the Llama 3.1 Base & Quantized Model\n",
    "\n",
    "https://colab.research.google.com/drive/1HgF9VeRySKS3cYgwEskgez1tiJFD7wZW?authuser=1"
   ]
  },
  {
   "cell_type": "markdown",
   "id": "fca4174f",
   "metadata": {},
   "source": []
  }
 ],
 "metadata": {
  "language_info": {
   "name": "python"
  }
 },
 "nbformat": 4,
 "nbformat_minor": 5
}
