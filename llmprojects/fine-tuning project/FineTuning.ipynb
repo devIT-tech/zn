{
 "cells": [
  {
   "cell_type": "markdown",
   "id": "facfbc60",
   "metadata": {},
   "source": [
    "This is the fine tuning processing and the result\n",
    "\n",
    "https://colab.research.google.com/drive/1RDxKtazVLmMtMzKUlEslTXkVLZmh1gXQ?authuser=1#scrollTo=-pT5Sx3mU5t9"
   ]
  }
 ],
 "metadata": {
  "language_info": {
   "name": "python"
  }
 },
 "nbformat": 4,
 "nbformat_minor": 5
}
